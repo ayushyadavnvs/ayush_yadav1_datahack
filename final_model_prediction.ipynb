{
 "cells": [
  {
   "cell_type": "code",
   "execution_count": 4,
   "id": "a31a02d9-6ebb-41ff-b218-aaccb36ae8bd",
   "metadata": {},
   "outputs": [],
   "source": [
    "import numpy as np\n",
    "import pandas as pd\n",
    "import seaborn as sns"
   ]
  },
  {
   "cell_type": "code",
   "execution_count": 6,
   "id": "1a45444d-1b09-4e18-ad18-5591bfbabfd9",
   "metadata": {},
   "outputs": [],
   "source": [
    "x = pd.read_csv('/Users/okayush/Downloads/dataset and all/training_set_features.csv')\n",
    "xtest=pd.read_csv('/Users/okayush/Downloads/dataset and all/test_set_features.csv')\n",
    "\n"
   ]
  },
  {
   "cell_type": "code",
   "execution_count": 8,
   "id": "62579327-8bf7-4841-a5ba-0910a2fe5ca6",
   "metadata": {},
   "outputs": [
    {
     "data": {
      "text/plain": [
       "respondent_id                   0.000000\n",
       "xyz_concern                     0.344479\n",
       "xyz_knowledge                   0.434343\n",
       "behavioral_antiviral_meds       0.265848\n",
       "behavioral_avoidance            0.778822\n",
       "behavioral_face_mask            0.071142\n",
       "behavioral_wash_hands           0.157262\n",
       "behavioral_large_gatherings     0.325757\n",
       "behavioral_outside_home         0.307036\n",
       "behavioral_touch_face           0.479275\n",
       "doctor_recc_xyz                 8.087767\n",
       "doctor_recc_seasonal            8.087767\n",
       "chronic_med_condition           3.635751\n",
       "child_under_6_months            3.070356\n",
       "health_worker                   3.010447\n",
       "health_insurance               45.957989\n",
       "opinion_xyz_vacc_effective      1.464036\n",
       "opinion_xyz_risk                1.452803\n",
       "opinion_xyz_sick_from_vacc      1.479013\n",
       "opinion_seas_vacc_effective     1.729884\n",
       "opinion_seas_risk               1.924589\n",
       "opinion_seas_sick_from_vacc     2.010709\n",
       "age_group                       0.000000\n",
       "education                       5.268282\n",
       "race                            0.000000\n",
       "sex                             0.000000\n",
       "income_poverty                 16.561201\n",
       "marital_status                  5.272026\n",
       "rent_or_own                     7.645936\n",
       "employment_status               5.477965\n",
       "hhs_geo_region                  0.000000\n",
       "census_msa                      0.000000\n",
       "household_adults                0.932340\n",
       "household_children              0.932340\n",
       "employment_industry            49.912008\n",
       "employment_occupation          50.436215\n",
       "dtype: float64"
      ]
     },
     "execution_count": 8,
     "metadata": {},
     "output_type": "execute_result"
    }
   ],
   "source": [
    "x.isnull().mean()*100"
   ]
  },
  {
   "cell_type": "code",
   "execution_count": 83,
   "id": "1a1fb165-8092-4530-9dc1-db65ea9f50b5",
   "metadata": {},
   "outputs": [
    {
     "data": {
      "text/plain": [
       "((26708, 25), (26707, 25))"
      ]
     },
     "execution_count": 83,
     "metadata": {},
     "output_type": "execute_result"
    }
   ],
   "source": [
    "xtest.shape, x.shape"
   ]
  },
  {
   "cell_type": "code",
   "execution_count": 12,
   "id": "5c4a0c6d-9d48-4db7-ac6f-e6ff87bd1afa",
   "metadata": {},
   "outputs": [
    {
     "data": {
      "text/plain": [
       "respondent_id                  0.000000\n",
       "xyz_concern                    0.003183\n",
       "xyz_knowledge                  0.004568\n",
       "behavioral_antiviral_meds      0.002958\n",
       "behavioral_avoidance           0.007975\n",
       "behavioral_face_mask           0.000711\n",
       "behavioral_wash_hands          0.001498\n",
       "behavioral_large_gatherings    0.002696\n",
       "behavioral_outside_home        0.003070\n",
       "behavioral_touch_face          0.004793\n",
       "doctor_recc_xyz                0.080875\n",
       "doctor_recc_seasonal           0.080875\n",
       "chronic_med_condition          0.034896\n",
       "child_under_6_months           0.030440\n",
       "health_worker                  0.029542\n",
       "health_insurance               0.457840\n",
       "opinion_xyz_vacc_effective     0.014902\n",
       "opinion_xyz_risk               0.014228\n",
       "opinion_xyz_sick_from_vacc     0.014041\n",
       "opinion_seas_vacc_effective    0.016924\n",
       "opinion_seas_risk              0.018684\n",
       "opinion_seas_sick_from_vacc    0.019507\n",
       "age_group                      0.000000\n",
       "education                      0.052681\n",
       "race                           0.000000\n",
       "sex                            0.000000\n",
       "income_poverty                 0.168377\n",
       "marital_status                 0.053991\n",
       "rent_or_own                    0.076232\n",
       "employment_status              0.055077\n",
       "hhs_geo_region                 0.000000\n",
       "census_msa                     0.000000\n",
       "household_adults               0.008424\n",
       "household_children             0.008424\n",
       "employment_industry            0.497042\n",
       "employment_occupation          0.502696\n",
       "dtype: float64"
      ]
     },
     "execution_count": 12,
     "metadata": {},
     "output_type": "execute_result"
    }
   ],
   "source": [
    "xtest.isnull().mean()"
   ]
  },
  {
   "cell_type": "markdown",
   "id": "a83d94f7-fbf1-4913-92a3-c5ed31e36a25",
   "metadata": {},
   "source": [
    "# preprocessing of both trainig and testing data"
   ]
  },
  {
   "cell_type": "code",
   "execution_count": 14,
   "id": "12fe81ee-10b5-43ae-9156-ad50e1a5f0e1",
   "metadata": {},
   "outputs": [],
   "source": [
    "x.drop(['employment_industry','employment_occupation','hhs_geo_region','census_msa','health_insurance','education',\n",
    "              'income_poverty','marital_status','rent_or_own','employment_status',],axis=1,inplace = True)\n",
    "xtest.drop(['employment_industry','employment_occupation','hhs_geo_region','census_msa','health_insurance','education',\n",
    "              'income_poverty','marital_status','rent_or_own','employment_status',],axis=1,inplace = True)"
   ]
  },
  {
   "cell_type": "code",
   "execution_count": 16,
   "id": "69812100-7c63-4d36-882c-e48d94485f95",
   "metadata": {},
   "outputs": [],
   "source": [
    "xtest.drop(['respondent_id'],axis=1,inplace = True)"
   ]
  },
  {
   "cell_type": "code",
   "execution_count": 18,
   "id": "33255088-c19e-4858-8795-0fb2022e7793",
   "metadata": {},
   "outputs": [],
   "source": [
    "x.drop(['respondent_id'],axis=1,inplace = True)"
   ]
  },
  {
   "cell_type": "code",
   "execution_count": 20,
   "id": "1ab457e0-ec10-49a9-8f43-d2ea707ca15c",
   "metadata": {},
   "outputs": [],
   "source": [
    "from sklearn.compose import ColumnTransformer\n",
    "from sklearn.impute import SimpleImputer\n",
    "from sklearn.preprocessing import OneHotEncoder\n",
    "\n",
    "from sklearn.preprocessing import OrdinalEncoder"
   ]
  },
  {
   "cell_type": "code",
   "execution_count": 22,
   "id": "995d1661-b189-44c0-aa3b-027075dad3f5",
   "metadata": {},
   "outputs": [],
   "source": [
    "ordinal_order = ['18 - 34 Years','35 - 44 Years','45 - 54 Years','55 - 64 Years','65+ Years']\n",
    "\n",
    "# Initialize ColumnTransformer \n",
    "preprocessor = ColumnTransformer(\n",
    "    transformers=[\n",
    "        ('freq_imputer', SimpleImputer(strategy='most_frequent'), [0,1,2,3,4,5,6,7,8,9,10,11,12,13,14,15,16,17,18,19,23,24]),  # Impute ordinal and nominal columns with most frequent value\n",
    "        ('ordinal_encoder', OrdinalEncoder(categories=[ordinal_order]), ['age_group']),  # Ordinal encoding for ordinal column\n",
    "        ('onehot_encoder', OneHotEncoder(drop='first',sparse=False,dtype=np.int32), ['race','sex'])  # One-hot encoding for nominal column\n",
    "    ],\n",
    "    remainder='passthrough')"
   ]
  },
  {
   "cell_type": "code",
   "execution_count": 24,
   "id": "eec24414-8697-4d28-b9cf-c64ebfaaac74",
   "metadata": {},
   "outputs": [
    {
     "name": "stderr",
     "output_type": "stream",
     "text": [
      "/opt/anaconda3/lib/python3.11/site-packages/sklearn/preprocessing/_encoders.py:868: FutureWarning: `sparse` was renamed to `sparse_output` in version 1.2 and will be removed in 1.4. `sparse_output` is ignored unless you leave `sparse` to its default value.\n",
      "  warnings.warn(\n"
     ]
    }
   ],
   "source": [
    "x_new = preprocessor.fit_transform(x)"
   ]
  },
  {
   "cell_type": "code",
   "execution_count": 26,
   "id": "9ed5b2eb-b220-4493-b309-544f2cc396ff",
   "metadata": {},
   "outputs": [],
   "source": [
    "xtest_new = preprocessor.transform(xtest)"
   ]
  },
  {
   "cell_type": "code",
   "execution_count": 28,
   "id": "96fbd018-279b-4e8a-861a-00c2f15af413",
   "metadata": {},
   "outputs": [
    {
     "data": {
      "text/plain": [
       "(26708, 27)"
      ]
     },
     "execution_count": 28,
     "metadata": {},
     "output_type": "execute_result"
    }
   ],
   "source": [
    "xtest_new.shape"
   ]
  },
  {
   "cell_type": "code",
   "execution_count": 30,
   "id": "b370a0a0-b1b9-4b66-a5cd-f8dd3f008f8a",
   "metadata": {},
   "outputs": [],
   "source": [
    "xtest_new = pd.DataFrame(xtest_new)"
   ]
  },
  {
   "cell_type": "code",
   "execution_count": 32,
   "id": "41a81432-8321-486d-b99e-699929771364",
   "metadata": {},
   "outputs": [],
   "source": [
    "x_new = pd.DataFrame(x_new)"
   ]
  },
  {
   "cell_type": "code",
   "execution_count": 60,
   "id": "5b6f04aa-8c1a-43ec-a531-5ea59a0ff034",
   "metadata": {},
   "outputs": [
    {
     "data": {
      "text/plain": [
       "(26708, 27)"
      ]
     },
     "execution_count": 60,
     "metadata": {},
     "output_type": "execute_result"
    }
   ],
   "source": [
    "xtest_new.shape\n",
    "\n"
   ]
  },
  {
   "cell_type": "code",
   "execution_count": null,
   "id": "76aa2cfc-508e-4e3b-85ce-0ff004214b72",
   "metadata": {},
   "outputs": [],
   "source": []
  },
  {
   "cell_type": "code",
   "execution_count": 36,
   "id": "999d1e6f-b6be-475f-9ec6-de48ae1d371f",
   "metadata": {},
   "outputs": [],
   "source": [
    "# importing ytrain data\n",
    "ytrain=pd.read_csv('/Users/okayush/Downloads/dataset and all/training_set_labels.csv')"
   ]
  },
  {
   "cell_type": "code",
   "execution_count": 38,
   "id": "00665e05-304a-452c-bcee-d9e8fb4e27c6",
   "metadata": {},
   "outputs": [
    {
     "data": {
      "text/html": [
       "<div>\n",
       "<style scoped>\n",
       "    .dataframe tbody tr th:only-of-type {\n",
       "        vertical-align: middle;\n",
       "    }\n",
       "\n",
       "    .dataframe tbody tr th {\n",
       "        vertical-align: top;\n",
       "    }\n",
       "\n",
       "    .dataframe thead th {\n",
       "        text-align: right;\n",
       "    }\n",
       "</style>\n",
       "<table border=\"1\" class=\"dataframe\">\n",
       "  <thead>\n",
       "    <tr style=\"text-align: right;\">\n",
       "      <th></th>\n",
       "      <th>respondent_id</th>\n",
       "      <th>xyz_vaccine</th>\n",
       "      <th>seasonal_vaccine</th>\n",
       "    </tr>\n",
       "  </thead>\n",
       "  <tbody>\n",
       "    <tr>\n",
       "      <th>0</th>\n",
       "      <td>0</td>\n",
       "      <td>0</td>\n",
       "      <td>0</td>\n",
       "    </tr>\n",
       "    <tr>\n",
       "      <th>1</th>\n",
       "      <td>1</td>\n",
       "      <td>0</td>\n",
       "      <td>1</td>\n",
       "    </tr>\n",
       "    <tr>\n",
       "      <th>2</th>\n",
       "      <td>2</td>\n",
       "      <td>0</td>\n",
       "      <td>0</td>\n",
       "    </tr>\n",
       "    <tr>\n",
       "      <th>3</th>\n",
       "      <td>3</td>\n",
       "      <td>0</td>\n",
       "      <td>1</td>\n",
       "    </tr>\n",
       "    <tr>\n",
       "      <th>4</th>\n",
       "      <td>4</td>\n",
       "      <td>0</td>\n",
       "      <td>0</td>\n",
       "    </tr>\n",
       "  </tbody>\n",
       "</table>\n",
       "</div>"
      ],
      "text/plain": [
       "   respondent_id  xyz_vaccine  seasonal_vaccine\n",
       "0              0            0                 0\n",
       "1              1            0                 1\n",
       "2              2            0                 0\n",
       "3              3            0                 1\n",
       "4              4            0                 0"
      ]
     },
     "execution_count": 38,
     "metadata": {},
     "output_type": "execute_result"
    }
   ],
   "source": [
    "ytrain.head()"
   ]
  },
  {
   "cell_type": "code",
   "execution_count": 79,
   "id": "8d634043-27d4-4954-9120-33294ef2ffa2",
   "metadata": {},
   "outputs": [],
   "source": [
    "submission =  ytrain.copy()"
   ]
  },
  {
   "cell_type": "code",
   "execution_count": 42,
   "id": "02e5840c-4333-4a4f-97b1-58070c2e25df",
   "metadata": {},
   "outputs": [],
   "source": [
    "ytrain.drop('respondent_id',axis=1,inplace = True)"
   ]
  },
  {
   "cell_type": "code",
   "execution_count": 46,
   "id": "ca68c8c0-d345-42e0-a095-1c6dd096e396",
   "metadata": {},
   "outputs": [],
   "source": [
    "y1 = ytrain.iloc[:,0]\n",
    "y2 = ytrain.iloc[:,1]\n"
   ]
  },
  {
   "cell_type": "code",
   "execution_count": 48,
   "id": "a9fe5217-f27e-4aee-a070-2fc7af15a76e",
   "metadata": {},
   "outputs": [
    {
     "data": {
      "text/plain": [
       "0    0\n",
       "1    0\n",
       "2    0\n",
       "3    0\n",
       "4    0\n",
       "Name: xyz_vaccine, dtype: int64"
      ]
     },
     "execution_count": 48,
     "metadata": {},
     "output_type": "execute_result"
    }
   ],
   "source": [
    "y1.head()"
   ]
  },
  {
   "cell_type": "code",
   "execution_count": 50,
   "id": "7cdf9af0-50ef-451f-ab57-a4e2241ca6fc",
   "metadata": {},
   "outputs": [],
   "source": [
    "from sklearn.model_selection import train_test_split\n",
    "from sklearn.linear_model import LogisticRegression\n",
    "from sklearn.metrics import roc_auc_score, roc_curve, accuracy_score\n",
    "import matplotlib.pyplot as plt"
   ]
  },
  {
   "cell_type": "markdown",
   "id": "97cb27f3-14dc-4877-aa2b-51be6c82f660",
   "metadata": {},
   "source": [
    "## for xyz_vaccine"
   ]
  },
  {
   "cell_type": "code",
   "execution_count": 147,
   "id": "1b1b63ba-d9d4-42d6-9980-4e907a17496a",
   "metadata": {},
   "outputs": [
    {
     "data": {
      "text/html": [
       "<style>#sk-container-id-11 {color: black;background-color: white;}#sk-container-id-11 pre{padding: 0;}#sk-container-id-11 div.sk-toggleable {background-color: white;}#sk-container-id-11 label.sk-toggleable__label {cursor: pointer;display: block;width: 100%;margin-bottom: 0;padding: 0.3em;box-sizing: border-box;text-align: center;}#sk-container-id-11 label.sk-toggleable__label-arrow:before {content: \"▸\";float: left;margin-right: 0.25em;color: #696969;}#sk-container-id-11 label.sk-toggleable__label-arrow:hover:before {color: black;}#sk-container-id-11 div.sk-estimator:hover label.sk-toggleable__label-arrow:before {color: black;}#sk-container-id-11 div.sk-toggleable__content {max-height: 0;max-width: 0;overflow: hidden;text-align: left;background-color: #f0f8ff;}#sk-container-id-11 div.sk-toggleable__content pre {margin: 0.2em;color: black;border-radius: 0.25em;background-color: #f0f8ff;}#sk-container-id-11 input.sk-toggleable__control:checked~div.sk-toggleable__content {max-height: 200px;max-width: 100%;overflow: auto;}#sk-container-id-11 input.sk-toggleable__control:checked~label.sk-toggleable__label-arrow:before {content: \"▾\";}#sk-container-id-11 div.sk-estimator input.sk-toggleable__control:checked~label.sk-toggleable__label {background-color: #d4ebff;}#sk-container-id-11 div.sk-label input.sk-toggleable__control:checked~label.sk-toggleable__label {background-color: #d4ebff;}#sk-container-id-11 input.sk-hidden--visually {border: 0;clip: rect(1px 1px 1px 1px);clip: rect(1px, 1px, 1px, 1px);height: 1px;margin: -1px;overflow: hidden;padding: 0;position: absolute;width: 1px;}#sk-container-id-11 div.sk-estimator {font-family: monospace;background-color: #f0f8ff;border: 1px dotted black;border-radius: 0.25em;box-sizing: border-box;margin-bottom: 0.5em;}#sk-container-id-11 div.sk-estimator:hover {background-color: #d4ebff;}#sk-container-id-11 div.sk-parallel-item::after {content: \"\";width: 100%;border-bottom: 1px solid gray;flex-grow: 1;}#sk-container-id-11 div.sk-label:hover label.sk-toggleable__label {background-color: #d4ebff;}#sk-container-id-11 div.sk-serial::before {content: \"\";position: absolute;border-left: 1px solid gray;box-sizing: border-box;top: 0;bottom: 0;left: 50%;z-index: 0;}#sk-container-id-11 div.sk-serial {display: flex;flex-direction: column;align-items: center;background-color: white;padding-right: 0.2em;padding-left: 0.2em;position: relative;}#sk-container-id-11 div.sk-item {position: relative;z-index: 1;}#sk-container-id-11 div.sk-parallel {display: flex;align-items: stretch;justify-content: center;background-color: white;position: relative;}#sk-container-id-11 div.sk-item::before, #sk-container-id-11 div.sk-parallel-item::before {content: \"\";position: absolute;border-left: 1px solid gray;box-sizing: border-box;top: 0;bottom: 0;left: 50%;z-index: -1;}#sk-container-id-11 div.sk-parallel-item {display: flex;flex-direction: column;z-index: 1;position: relative;background-color: white;}#sk-container-id-11 div.sk-parallel-item:first-child::after {align-self: flex-end;width: 50%;}#sk-container-id-11 div.sk-parallel-item:last-child::after {align-self: flex-start;width: 50%;}#sk-container-id-11 div.sk-parallel-item:only-child::after {width: 0;}#sk-container-id-11 div.sk-dashed-wrapped {border: 1px dashed gray;margin: 0 0.4em 0.5em 0.4em;box-sizing: border-box;padding-bottom: 0.4em;background-color: white;}#sk-container-id-11 div.sk-label label {font-family: monospace;font-weight: bold;display: inline-block;line-height: 1.2em;}#sk-container-id-11 div.sk-label-container {text-align: center;}#sk-container-id-11 div.sk-container {/* jupyter's `normalize.less` sets `[hidden] { display: none; }` but bootstrap.min.css set `[hidden] { display: none !important; }` so we also need the `!important` here to be able to override the default hidden behavior on the sphinx rendered scikit-learn.org. See: https://github.com/scikit-learn/scikit-learn/issues/21755 */display: inline-block !important;position: relative;}#sk-container-id-11 div.sk-text-repr-fallback {display: none;}</style><div id=\"sk-container-id-11\" class=\"sk-top-container\"><div class=\"sk-text-repr-fallback\"><pre>LogisticRegression(max_iter=130)</pre><b>In a Jupyter environment, please rerun this cell to show the HTML representation or trust the notebook. <br />On GitHub, the HTML representation is unable to render, please try loading this page with nbviewer.org.</b></div><div class=\"sk-container\" hidden><div class=\"sk-item\"><div class=\"sk-estimator sk-toggleable\"><input class=\"sk-toggleable__control sk-hidden--visually\" id=\"sk-estimator-id-11\" type=\"checkbox\" checked><label for=\"sk-estimator-id-11\" class=\"sk-toggleable__label sk-toggleable__label-arrow\">LogisticRegression</label><div class=\"sk-toggleable__content\"><pre>LogisticRegression(max_iter=130)</pre></div></div></div></div></div>"
      ],
      "text/plain": [
       "LogisticRegression(max_iter=130)"
      ]
     },
     "execution_count": 147,
     "metadata": {},
     "output_type": "execute_result"
    }
   ],
   "source": [
    "model = LogisticRegression(max_iter=130)\n",
    "model.fit(x_new, y1) #fitting x train for xyz vaccine"
   ]
  },
  {
   "cell_type": "markdown",
   "id": "3f68c40e-7586-4073-8b0f-061728904ba7",
   "metadata": {},
   "source": [
    "### prediciting the probability that the person will take xyz_vaccine\n",
    "y_prob1 = model.predict_proba(xtest_new)[:, 1] "
   ]
  },
  {
   "cell_type": "code",
   "execution_count": 150,
   "id": "039a886d-3821-48b0-8526-c792fc264ac6",
   "metadata": {},
   "outputs": [
    {
     "data": {
      "text/plain": [
       "array([0.08620001, 0.05952779, 0.40786389, ..., 0.13505793, 0.0532539 ,\n",
       "       0.57500941])"
      ]
     },
     "execution_count": 150,
     "metadata": {},
     "output_type": "execute_result"
    }
   ],
   "source": [
    "# probability for xyz vaccine\n",
    "y_prob1"
   ]
  },
  {
   "cell_type": "code",
   "execution_count": 152,
   "id": "d20f3c14-33aa-4d4c-bc1f-a111ad62e5e4",
   "metadata": {},
   "outputs": [],
   "source": [
    "\n",
    "y_pred = model.predict(xtest_new)"
   ]
  },
  {
   "cell_type": "markdown",
   "id": "f397584b-7de8-4b8a-993c-8cfbc18014b6",
   "metadata": {},
   "source": [
    "## for seasonal vaccine"
   ]
  },
  {
   "cell_type": "code",
   "execution_count": 155,
   "id": "22e275a4-c961-4d9e-8a87-dfde195867a8",
   "metadata": {},
   "outputs": [
    {
     "data": {
      "text/html": [
       "<style>#sk-container-id-12 {color: black;background-color: white;}#sk-container-id-12 pre{padding: 0;}#sk-container-id-12 div.sk-toggleable {background-color: white;}#sk-container-id-12 label.sk-toggleable__label {cursor: pointer;display: block;width: 100%;margin-bottom: 0;padding: 0.3em;box-sizing: border-box;text-align: center;}#sk-container-id-12 label.sk-toggleable__label-arrow:before {content: \"▸\";float: left;margin-right: 0.25em;color: #696969;}#sk-container-id-12 label.sk-toggleable__label-arrow:hover:before {color: black;}#sk-container-id-12 div.sk-estimator:hover label.sk-toggleable__label-arrow:before {color: black;}#sk-container-id-12 div.sk-toggleable__content {max-height: 0;max-width: 0;overflow: hidden;text-align: left;background-color: #f0f8ff;}#sk-container-id-12 div.sk-toggleable__content pre {margin: 0.2em;color: black;border-radius: 0.25em;background-color: #f0f8ff;}#sk-container-id-12 input.sk-toggleable__control:checked~div.sk-toggleable__content {max-height: 200px;max-width: 100%;overflow: auto;}#sk-container-id-12 input.sk-toggleable__control:checked~label.sk-toggleable__label-arrow:before {content: \"▾\";}#sk-container-id-12 div.sk-estimator input.sk-toggleable__control:checked~label.sk-toggleable__label {background-color: #d4ebff;}#sk-container-id-12 div.sk-label input.sk-toggleable__control:checked~label.sk-toggleable__label {background-color: #d4ebff;}#sk-container-id-12 input.sk-hidden--visually {border: 0;clip: rect(1px 1px 1px 1px);clip: rect(1px, 1px, 1px, 1px);height: 1px;margin: -1px;overflow: hidden;padding: 0;position: absolute;width: 1px;}#sk-container-id-12 div.sk-estimator {font-family: monospace;background-color: #f0f8ff;border: 1px dotted black;border-radius: 0.25em;box-sizing: border-box;margin-bottom: 0.5em;}#sk-container-id-12 div.sk-estimator:hover {background-color: #d4ebff;}#sk-container-id-12 div.sk-parallel-item::after {content: \"\";width: 100%;border-bottom: 1px solid gray;flex-grow: 1;}#sk-container-id-12 div.sk-label:hover label.sk-toggleable__label {background-color: #d4ebff;}#sk-container-id-12 div.sk-serial::before {content: \"\";position: absolute;border-left: 1px solid gray;box-sizing: border-box;top: 0;bottom: 0;left: 50%;z-index: 0;}#sk-container-id-12 div.sk-serial {display: flex;flex-direction: column;align-items: center;background-color: white;padding-right: 0.2em;padding-left: 0.2em;position: relative;}#sk-container-id-12 div.sk-item {position: relative;z-index: 1;}#sk-container-id-12 div.sk-parallel {display: flex;align-items: stretch;justify-content: center;background-color: white;position: relative;}#sk-container-id-12 div.sk-item::before, #sk-container-id-12 div.sk-parallel-item::before {content: \"\";position: absolute;border-left: 1px solid gray;box-sizing: border-box;top: 0;bottom: 0;left: 50%;z-index: -1;}#sk-container-id-12 div.sk-parallel-item {display: flex;flex-direction: column;z-index: 1;position: relative;background-color: white;}#sk-container-id-12 div.sk-parallel-item:first-child::after {align-self: flex-end;width: 50%;}#sk-container-id-12 div.sk-parallel-item:last-child::after {align-self: flex-start;width: 50%;}#sk-container-id-12 div.sk-parallel-item:only-child::after {width: 0;}#sk-container-id-12 div.sk-dashed-wrapped {border: 1px dashed gray;margin: 0 0.4em 0.5em 0.4em;box-sizing: border-box;padding-bottom: 0.4em;background-color: white;}#sk-container-id-12 div.sk-label label {font-family: monospace;font-weight: bold;display: inline-block;line-height: 1.2em;}#sk-container-id-12 div.sk-label-container {text-align: center;}#sk-container-id-12 div.sk-container {/* jupyter's `normalize.less` sets `[hidden] { display: none; }` but bootstrap.min.css set `[hidden] { display: none !important; }` so we also need the `!important` here to be able to override the default hidden behavior on the sphinx rendered scikit-learn.org. See: https://github.com/scikit-learn/scikit-learn/issues/21755 */display: inline-block !important;position: relative;}#sk-container-id-12 div.sk-text-repr-fallback {display: none;}</style><div id=\"sk-container-id-12\" class=\"sk-top-container\"><div class=\"sk-text-repr-fallback\"><pre>LogisticRegression()</pre><b>In a Jupyter environment, please rerun this cell to show the HTML representation or trust the notebook. <br />On GitHub, the HTML representation is unable to render, please try loading this page with nbviewer.org.</b></div><div class=\"sk-container\" hidden><div class=\"sk-item\"><div class=\"sk-estimator sk-toggleable\"><input class=\"sk-toggleable__control sk-hidden--visually\" id=\"sk-estimator-id-12\" type=\"checkbox\" checked><label for=\"sk-estimator-id-12\" class=\"sk-toggleable__label sk-toggleable__label-arrow\">LogisticRegression</label><div class=\"sk-toggleable__content\"><pre>LogisticRegression()</pre></div></div></div></div></div>"
      ],
      "text/plain": [
       "LogisticRegression()"
      ]
     },
     "execution_count": 155,
     "metadata": {},
     "output_type": "execute_result"
    }
   ],
   "source": [
    "model = LogisticRegression()\n",
    "model.fit(x_new, y2)"
   ]
  },
  {
   "cell_type": "code",
   "execution_count": 157,
   "id": "2680f4b1-77b6-488f-829d-7006197197ec",
   "metadata": {},
   "outputs": [],
   "source": [
    "# probability for seasonal vaccine\n",
    "y_prob2 = model.predict_proba(xtest_new)[:, 1]"
   ]
  },
  {
   "cell_type": "code",
   "execution_count": 159,
   "id": "da73ec5c-f504-4c5b-9946-e41f176d8c02",
   "metadata": {},
   "outputs": [
    {
     "data": {
      "text/plain": [
       "array([0.22203307, 0.07981895, 0.68058805, ..., 0.2133906 , 0.38330472,\n",
       "       0.5827557 ])"
      ]
     },
     "execution_count": 159,
     "metadata": {},
     "output_type": "execute_result"
    }
   ],
   "source": [
    "y_prob2"
   ]
  },
  {
   "cell_type": "markdown",
   "id": "01fded88-4967-49a9-b049-488f31c24a8b",
   "metadata": {},
   "source": [
    "# creating the final csv file\n"
   ]
  },
  {
   "cell_type": "code",
   "execution_count": 162,
   "id": "1be16aaa-5325-4c84-8410-f71714afef61",
   "metadata": {},
   "outputs": [],
   "source": [
    "# importing the format of submission file\n",
    "submission = pd.read_csv('/Users/okayush/Downloads/dataset and all/submission_format.csv')"
   ]
  },
  {
   "cell_type": "code",
   "execution_count": 91,
   "id": "23802a57-a6bd-48a8-8647-e30773a4044e",
   "metadata": {},
   "outputs": [
    {
     "data": {
      "text/html": [
       "<div>\n",
       "<style scoped>\n",
       "    .dataframe tbody tr th:only-of-type {\n",
       "        vertical-align: middle;\n",
       "    }\n",
       "\n",
       "    .dataframe tbody tr th {\n",
       "        vertical-align: top;\n",
       "    }\n",
       "\n",
       "    .dataframe thead th {\n",
       "        text-align: right;\n",
       "    }\n",
       "</style>\n",
       "<table border=\"1\" class=\"dataframe\">\n",
       "  <thead>\n",
       "    <tr style=\"text-align: right;\">\n",
       "      <th></th>\n",
       "      <th>respondent_id</th>\n",
       "      <th>h1n1_vaccine</th>\n",
       "      <th>seasonal_vaccine</th>\n",
       "    </tr>\n",
       "  </thead>\n",
       "  <tbody>\n",
       "    <tr>\n",
       "      <th>0</th>\n",
       "      <td>26707</td>\n",
       "      <td>0.5</td>\n",
       "      <td>0.7</td>\n",
       "    </tr>\n",
       "    <tr>\n",
       "      <th>1</th>\n",
       "      <td>26708</td>\n",
       "      <td>0.5</td>\n",
       "      <td>0.7</td>\n",
       "    </tr>\n",
       "    <tr>\n",
       "      <th>2</th>\n",
       "      <td>26709</td>\n",
       "      <td>0.5</td>\n",
       "      <td>0.7</td>\n",
       "    </tr>\n",
       "    <tr>\n",
       "      <th>3</th>\n",
       "      <td>26710</td>\n",
       "      <td>0.5</td>\n",
       "      <td>0.7</td>\n",
       "    </tr>\n",
       "    <tr>\n",
       "      <th>4</th>\n",
       "      <td>26711</td>\n",
       "      <td>0.5</td>\n",
       "      <td>0.7</td>\n",
       "    </tr>\n",
       "  </tbody>\n",
       "</table>\n",
       "</div>"
      ],
      "text/plain": [
       "   respondent_id  h1n1_vaccine  seasonal_vaccine\n",
       "0          26707           0.5               0.7\n",
       "1          26708           0.5               0.7\n",
       "2          26709           0.5               0.7\n",
       "3          26710           0.5               0.7\n",
       "4          26711           0.5               0.7"
      ]
     },
     "execution_count": 91,
     "metadata": {},
     "output_type": "execute_result"
    }
   ],
   "source": [
    "submission.head()"
   ]
  },
  {
   "cell_type": "code",
   "execution_count": 93,
   "id": "5345be91-a238-4f9b-885f-7ad1d849e1d6",
   "metadata": {},
   "outputs": [
    {
     "data": {
      "text/plain": [
       "(26708, 3)"
      ]
     },
     "execution_count": 93,
     "metadata": {},
     "output_type": "execute_result"
    }
   ],
   "source": [
    "submission.shape"
   ]
  },
  {
   "cell_type": "code",
   "execution_count": 164,
   "id": "d132975f-6efc-4d20-8421-b12931bc0ae7",
   "metadata": {},
   "outputs": [],
   "source": [
    "submission['h1n1_vaccine'] = y_prob1"
   ]
  },
  {
   "cell_type": "code",
   "execution_count": 166,
   "id": "cf1d38f6-b45d-4cc3-8c16-40c6cce65c7f",
   "metadata": {},
   "outputs": [],
   "source": [
    "submission['seasonal_vaccine'] = y_prob2"
   ]
  },
  {
   "cell_type": "code",
   "execution_count": 168,
   "id": "af527b93-0d57-47f7-ba00-9c203f6e0b85",
   "metadata": {},
   "outputs": [
    {
     "data": {
      "text/html": [
       "<div>\n",
       "<style scoped>\n",
       "    .dataframe tbody tr th:only-of-type {\n",
       "        vertical-align: middle;\n",
       "    }\n",
       "\n",
       "    .dataframe tbody tr th {\n",
       "        vertical-align: top;\n",
       "    }\n",
       "\n",
       "    .dataframe thead th {\n",
       "        text-align: right;\n",
       "    }\n",
       "</style>\n",
       "<table border=\"1\" class=\"dataframe\">\n",
       "  <thead>\n",
       "    <tr style=\"text-align: right;\">\n",
       "      <th></th>\n",
       "      <th>respondent_id</th>\n",
       "      <th>h1n1_vaccine</th>\n",
       "      <th>seasonal_vaccine</th>\n",
       "    </tr>\n",
       "  </thead>\n",
       "  <tbody>\n",
       "    <tr>\n",
       "      <th>0</th>\n",
       "      <td>26707</td>\n",
       "      <td>0.086200</td>\n",
       "      <td>0.222033</td>\n",
       "    </tr>\n",
       "    <tr>\n",
       "      <th>1</th>\n",
       "      <td>26708</td>\n",
       "      <td>0.059528</td>\n",
       "      <td>0.079819</td>\n",
       "    </tr>\n",
       "    <tr>\n",
       "      <th>2</th>\n",
       "      <td>26709</td>\n",
       "      <td>0.407864</td>\n",
       "      <td>0.680588</td>\n",
       "    </tr>\n",
       "    <tr>\n",
       "      <th>3</th>\n",
       "      <td>26710</td>\n",
       "      <td>0.478221</td>\n",
       "      <td>0.869384</td>\n",
       "    </tr>\n",
       "    <tr>\n",
       "      <th>4</th>\n",
       "      <td>26711</td>\n",
       "      <td>0.200640</td>\n",
       "      <td>0.479628</td>\n",
       "    </tr>\n",
       "  </tbody>\n",
       "</table>\n",
       "</div>"
      ],
      "text/plain": [
       "   respondent_id  h1n1_vaccine  seasonal_vaccine\n",
       "0          26707      0.086200          0.222033\n",
       "1          26708      0.059528          0.079819\n",
       "2          26709      0.407864          0.680588\n",
       "3          26710      0.478221          0.869384\n",
       "4          26711      0.200640          0.479628"
      ]
     },
     "execution_count": 168,
     "metadata": {},
     "output_type": "execute_result"
    }
   ],
   "source": [
    "submission.head()"
   ]
  },
  {
   "cell_type": "code",
   "execution_count": 103,
   "id": "c467c99d-6ed7-44ca-9480-76d9f2aab5fd",
   "metadata": {},
   "outputs": [],
   "source": [
    "submission.to_csv('/Users/okayush/Downloads/dataset and all/submission.csv')"
   ]
  },
  {
   "cell_type": "code",
   "execution_count": null,
   "id": "c8301bd3-dd4e-404d-9126-839dde03dfd8",
   "metadata": {},
   "outputs": [],
   "source": []
  }
 ],
 "metadata": {
  "kernelspec": {
   "display_name": "Python 3 (ipykernel)",
   "language": "python",
   "name": "python3"
  },
  "language_info": {
   "codemirror_mode": {
    "name": "ipython",
    "version": 3
   },
   "file_extension": ".py",
   "mimetype": "text/x-python",
   "name": "python",
   "nbconvert_exporter": "python",
   "pygments_lexer": "ipython3",
   "version": "3.11.7"
  }
 },
 "nbformat": 4,
 "nbformat_minor": 5
}
